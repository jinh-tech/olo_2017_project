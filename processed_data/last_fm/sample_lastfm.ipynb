{
 "cells": [
  {
   "cell_type": "code",
   "execution_count": 1,
   "metadata": {
    "collapsed": true
   },
   "outputs": [],
   "source": [
    "import numpy as np\n",
    "import pandas as pd"
   ]
  },
  {
   "cell_type": "code",
   "execution_count": 14,
   "metadata": {
    "collapsed": false
   },
   "outputs": [],
   "source": [
    "def create_sample(ones,timesteps):\n",
    "\n",
    "    no_recommendation = 10\n",
    "    df = pd.read_csv('../../datasets/lastfm/user_artists.csv')\n",
    "    users = df['userID'].unique()\n",
    "    #artists = df['artistID'].unique()\n",
    "    random_users = np.random.choice(users,timesteps)\n",
    "    output_users = open('lfm_prac_u_5.txt','w')\n",
    "    output_artists = open('lfm_prac_a_5.txt','w')\n",
    "\n",
    "    for i in range(0,timesteps):\n",
    "        temp = df[df['userID'] == random_users[i]]\n",
    "        temp_all_artists = temp['artistID'].values\n",
    "        \n",
    "        if temp_all_artists.size < ones:\n",
    "            continue\n",
    "        \n",
    "        temp_some_artists = np.random.choice(temp_all_artists,size = ones,replace=False)\n",
    "        not_in_artists = df[~df.artistID.isin(temp_all_artists.tolist())]['artistID'].values\n",
    "        \n",
    "        if not_in_artists.size < 10-ones:\n",
    "            continue\n",
    "        \n",
    "        #print temp_some_artists\n",
    "        #print temp_all_artists\n",
    "        not_in_artists = np.random.choice(not_in_artists,size = no_recommendation-ones,replace=False)\n",
    "        temp_some_artists = np.append(temp_some_artists,not_in_artists)\n",
    "        temp_some_artists_list = temp_some_artists.tolist()\n",
    "        temp_str = ' '.join(str(e) for e in temp_some_artists_list)\n",
    "        \n",
    "        output_users.write(str(random_users[i]) + '\\n')\n",
    "        output_artists.write(temp_str + '\\n')\n",
    "        if i%100==0:\n",
    "            print i\n",
    "        \n",
    "                    \n",
    "    output_users.close()            \n",
    "    output_artists.close()"
   ]
  },
  {
   "cell_type": "code",
   "execution_count": 15,
   "metadata": {
    "collapsed": false
   },
   "outputs": [
    {
     "name": "stdout",
     "output_type": "stream",
     "text": [
      "0\n",
      "100\n",
      "200\n",
      "300\n",
      "400\n",
      "600\n",
      "700\n",
      "800\n",
      "900\n"
     ]
    }
   ],
   "source": [
    "create_sample(ones = 5,timesteps=1000)"
   ]
  }
 ],
 "metadata": {
  "anaconda-cloud": {},
  "kernelspec": {
   "display_name": "Python [conda root]",
   "language": "python",
   "name": "conda-root-py"
  },
  "language_info": {
   "codemirror_mode": {
    "name": "ipython",
    "version": 2
   },
   "file_extension": ".py",
   "mimetype": "text/x-python",
   "name": "python",
   "nbconvert_exporter": "python",
   "pygments_lexer": "ipython2",
   "version": "2.7.12"
  }
 },
 "nbformat": 4,
 "nbformat_minor": 1
}
