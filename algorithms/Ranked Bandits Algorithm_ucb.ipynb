{
 "cells": [
  {
   "cell_type": "code",
   "execution_count": 1,
   "metadata": {
    "collapsed": true
   },
   "outputs": [],
   "source": [
    "import numpy as np\n",
    "import matplotlib.pyplot as plt\n",
    "import time"
   ]
  },
  {
   "cell_type": "code",
   "execution_count": 2,
   "metadata": {
    "collapsed": true
   },
   "outputs": [],
   "source": [
    "users = np.loadtxt('../processed_data/last_fm/lfm_u_3.txt')\n",
    "data = np.loadtxt('../processed_data/last_fm/lfm_a_3.txt')\n",
    "output_score_file = \"../ndcg_scores/rba_ucb/score_lfm_3.txt\"\n",
    "#users = np.ones(users.size)\n",
    "ones = 3 # change for each file depending upon no. of ones.\n",
    "timesteps = users.size\n",
    "#timesteps = 11\n",
    "no_recommendation = data.shape[1]\n",
    "times_appeared = []\n",
    "weight = []\n",
    "scores = np.zeros(timesteps)\n",
    "best_dcg = 0.0\n",
    "for i in range(0,ones):\n",
    "    best_dcg += 1.0/np.log2(i+2)"
   ]
  },
  {
   "cell_type": "code",
   "execution_count": 3,
   "metadata": {
    "collapsed": true
   },
   "outputs": [],
   "source": [
    "def initialize():\n",
    "    for i in range(0,no_recommendation):\n",
    "        times_appeared.append({})\n",
    "        weight.append({})"
   ]
  },
  {
   "cell_type": "code",
   "execution_count": 4,
   "metadata": {
    "collapsed": true
   },
   "outputs": [],
   "source": [
    "def receive_user(t):\n",
    "    return users[t]\n",
    "\n",
    "def receive_items(t):\n",
    "    return data[t]\n"
   ]
  },
  {
   "cell_type": "code",
   "execution_count": 5,
   "metadata": {
    "collapsed": true
   },
   "outputs": [],
   "source": [
    "def mab(pos,u,items,t):\n",
    "    if not u in times_appeared[pos]:\n",
    "        times_appeared[pos][u] = {}\n",
    "        weight[pos][u] = {}\n",
    "    for i in range(0,items.size):\n",
    "        if not items[i] in times_appeared[pos][u]:\n",
    "            times_appeared[pos][u][items[i]] = 1.0\n",
    "            weight[pos][u][items[i]] = np.random.uniform(low=0.001,high=0.01,size=1)\n",
    "    ucb = np.zeros(no_recommendation)\n",
    "    for i in range(0,no_recommendation):\n",
    "        ucb[i] = weight[pos][u][items[i]] + np.sqrt((1.5*np.log2(t+1))/times_appeared[pos][u][items[i]])\n",
    "    return items[np.argmax(ucb)]"
   ]
  },
  {
   "cell_type": "code",
   "execution_count": 6,
   "metadata": {
    "collapsed": true
   },
   "outputs": [],
   "source": [
    "def rba(u,items,t):\n",
    "    original_ranked = np.zeros(no_recommendation)-1\n",
    "    final_ranked = np.zeros(no_recommendation)-1\n",
    "    \n",
    "    for i in range(0,no_recommendation):\n",
    "        original_ranked[i] = mab(i,u,items,t)\n",
    "        if np.in1d(original_ranked[i],final_ranked[0:i],assume_unique=True)[0] == True:\n",
    "            final_ranked[i] = np.random.choice(np.setdiff1d(items,final_ranked[0:i],assume_unique=True),size=1)\n",
    "        else:\n",
    "            final_ranked[i] = original_ranked[i]\n",
    "            \n",
    "    return final_ranked,original_ranked\n",
    "    "
   ]
  },
  {
   "cell_type": "code",
   "execution_count": 7,
   "metadata": {
    "collapsed": true
   },
   "outputs": [],
   "source": [
    "def simulate_click(items,ranked_items):\n",
    "    \n",
    "    clicked = np.zeros(items.size)\n",
    "    for i in range(0,items.size):\n",
    "        for j in range(0,ones):\n",
    "            if items[j] == ranked_items[i]:\n",
    "                clicked[i] = 1\n",
    "                \n",
    "    return clicked"
   ]
  },
  {
   "cell_type": "code",
   "execution_count": 8,
   "metadata": {
    "collapsed": true
   },
   "outputs": [],
   "source": [
    "def score(t,clicked):\n",
    "    for i in range(0,clicked.size):\n",
    "        scores[t] += clicked[i]/np.log2(i+2)\n",
    "    scores[t] /= best_dcg"
   ]
  },
  {
   "cell_type": "code",
   "execution_count": 9,
   "metadata": {
    "collapsed": true
   },
   "outputs": [],
   "source": [
    "def update(u,original_ranked_items,final_ranked_items,clicked):\n",
    "    for i in range(0,no_recommendation):\n",
    "        if original_ranked_items[i] == final_ranked_items[i]:\n",
    "            weight[i][u][final_ranked_items[i]] = (times_appeared[i][u][final_ranked_items[i]]*weight[i][u][final_ranked_items[i]]+clicked[i])/(times_appeared[i][u][final_ranked_items[i]]+1)\n",
    "            times_appeared[i][u][final_ranked_items[i]] += 1"
   ]
  },
  {
   "cell_type": "code",
   "execution_count": 10,
   "metadata": {
    "collapsed": false,
    "scrolled": true
   },
   "outputs": [],
   "source": [
    "initialize()\n",
    "start_time = time.time()\n",
    "for t in range(0,timesteps):\n",
    "    #if t%100 == 0:\n",
    "    #    print t\n",
    "    u = receive_user(t)\n",
    "    items = receive_items(t)\n",
    "    #print items\n",
    "    final_ranked_items,original_ranked_items = rba(u,items,t)\n",
    "    clicked = simulate_click(items,final_ranked_items)\n",
    "    score(t,clicked)\n",
    "    #print clicked\n",
    "    #print final_ranked_items\n",
    "    update(u,original_ranked_items,final_ranked_items,clicked)\n",
    "end_time = time.time()"
   ]
  },
  {
   "cell_type": "code",
   "execution_count": 11,
   "metadata": {
    "collapsed": true
   },
   "outputs": [],
   "source": [
    "for t in range(1,timesteps):\n",
    "    scores[t] += scores[t-1]"
   ]
  },
  {
   "cell_type": "code",
   "execution_count": 12,
   "metadata": {
    "collapsed": false
   },
   "outputs": [
    {
     "data": {
      "image/png": "[encoded data removed]",
      "text/plain": [
       "<matplotlib.figure.Figure at 0x7f5746445a10>"
      ]
     },
     "metadata": {},
     "output_type": "display_data"
    }
   ],
   "source": [
    "avg = np.zeros(timesteps)\n",
    "for t in range(0,timesteps):\n",
    "    avg[t] = scores[t]/(t+1)\n",
    "plt.plot(avg)\n",
    "plt.show()"
   ]
  },
  {
   "cell_type": "code",
   "execution_count": 13,
   "metadata": {
    "collapsed": false
   },
   "outputs": [
    {
     "name": "stdout",
     "output_type": "stream",
     "text": [
      "Time taken by the algorithm to run is 165.329589 seconds\n"
     ]
    }
   ],
   "source": [
    "print \"Time taken by the algorithm to run is %lf seconds\" %(end_time-start_time)\n",
    "np.savetxt(output_score_file,avg,fmt=\"%.3f\",delimiter=' ')"
   ]
  }
 ],
 "metadata": {
  "kernelspec": {
   "display_name": "Python [default]",
   "language": "python",
   "name": "python2"
  },
  "language_info": {
   "codemirror_mode": {
    "name": "ipython",
    "version": 2
   },
   "file_extension": ".py",
   "mimetype": "text/x-python",
   "name": "python",
   "nbconvert_exporter": "python",
   "pygments_lexer": "ipython2",
   "version": "2.7.12"
  }
 },
 "nbformat": 4,
 "nbformat_minor": 2
}
