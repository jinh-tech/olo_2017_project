{
 "cells": [
  {
   "cell_type": "code",
   "execution_count": 13,
   "metadata": {
    "collapsed": true
   },
   "outputs": [],
   "source": [
    "import numpy as np\n",
    "import matplotlib.pyplot as plt\n",
    "import time"
   ]
  },
  {
   "cell_type": "code",
   "execution_count": 14,
   "metadata": {
    "collapsed": true
   },
   "outputs": [],
   "source": [
    "users = np.loadtxt('../processed_data/last_fm/lfm_u_1.txt')\n",
    "data = np.loadtxt('../processed_data/last_fm/lfm_a_1.txt')\n",
    "output_score_file = \"../ndcg_scores/cascade_ucb1/score_lfm_1.txt\"\n",
    "#users = np.ones(users.size)\n",
    "ones = 1 # change for each file depending upon no. of ones.\n",
    "timesteps = users.size\n",
    "timesteps = 11\n",
    "no_recommendation = data.shape[1]\n",
    "times_appeared = []\n",
    "weight = []\n",
    "scores = np.zeros(timesteps)\n",
    "best_dcg = 0.0\n",
    "for i in range(0,ones):\n",
    "    best_dcg += 1.0/np.log2(i+2)"
   ]
  },
  {
   "cell_type": "code",
   "execution_count": 15,
   "metadata": {
    "collapsed": true
   },
   "outputs": [],
   "source": [
    "def initialize():\n",
    "    for i in range(0,no_recommendation):\n",
    "        times_appeared.append({})\n",
    "        weight.append({})"
   ]
  },
  {
   "cell_type": "code",
   "execution_count": 16,
   "metadata": {
    "collapsed": true
   },
   "outputs": [],
   "source": [
    "def receive_user(t):\n",
    "    return users[t]\n",
    "\n",
    "def receive_items(t):\n",
    "    return data[t]\n"
   ]
  },
  {
   "cell_type": "code",
   "execution_count": 17,
   "metadata": {
    "collapsed": true
   },
   "outputs": [],
   "source": [
    "def mab(pos,u,items,t):\n",
    "    if not u in times_appeared[pos]:\n",
    "        times_appeared[pos][u] = {}\n",
    "        weight[pos][u] = {}\n",
    "    for i in range(0,items.size):\n",
    "        if not items[i] in times_appeared[pos][u]:\n",
    "            times_appeared[pos][u][items[i]] = 1.0\n",
    "            weight[pos][u][items[i]] = np.random.uniform(low=0.001,high=0.01,size=1)\n",
    "    ucb = np.zeros(no_recommendation)\n",
    "    for i in range(0,no_recommendation):\n",
    "        ucb[i] = weight[pos][u][items[i]] + np.sqrt((1.5*np.log2(t+1))/times_appeared[pos][u][items[i]])\n",
    "    return items[np.argmax(ucb)]"
   ]
  },
  {
   "cell_type": "code",
   "execution_count": 18,
   "metadata": {
    "collapsed": true
   },
   "outputs": [],
   "source": [
    "def rba(u,items,t):\n",
    "    original_ranked = np.zeros(no_recommendation)-1\n",
    "    final_ranked = np.zeros(no_recommendation)-1\n",
    "    \n",
    "    for i in range(0,no_recommendation):\n",
    "        original_ranked[i] = mab(i,u,items,t)\n",
    "        if np.in1d(original_ranked[i],final_ranked[0:i],assume_unique=True)[0] == True:\n",
    "            final_ranked[i] = np.random.choice(np.setdiff1d(items,final_ranked[0:i],assume_unique=True),size=1)\n",
    "        else:\n",
    "            final_ranked[i] = original_ranked[i]\n",
    "            \n",
    "    return final_ranked,original_ranked\n",
    "    "
   ]
  },
  {
   "cell_type": "code",
   "execution_count": 19,
   "metadata": {
    "collapsed": true
   },
   "outputs": [],
   "source": [
    "def simulate_click(items,ranked_items):\n",
    "    \n",
    "    clicked = np.zeros(items.size)\n",
    "    for i in range(0,items.size):\n",
    "        for j in range(0,ones):\n",
    "            if items[j] == ranked_items[i]:\n",
    "                clicked[i] = 1\n",
    "                \n",
    "    return clicked"
   ]
  },
  {
   "cell_type": "code",
   "execution_count": 20,
   "metadata": {
    "collapsed": true
   },
   "outputs": [],
   "source": [
    "def score(t,clicked):\n",
    "    for i in range(0,clicked.size):\n",
    "        scores[t] += clicked[i]/np.log2(i+2)\n",
    "    scores[t] /= best_dcg"
   ]
  },
  {
   "cell_type": "code",
   "execution_count": 21,
   "metadata": {
    "collapsed": true
   },
   "outputs": [],
   "source": [
    "def update(u,original_ranked_items,final_ranked_items,clicked):\n",
    "    for i in range(0,no_recommendation):\n",
    "        if original_ranked_items[i] == final_ranked_items[i]:\n",
    "            weight[i][u][final_ranked_items[i]] = (times_appeared[i][u][final_ranked_items[i]]*weight[i][u][final_ranked_items[i]]+clicked[i])/(times_appeared[i][u][final_ranked_items[i]]+1)\n",
    "            times_appeared[i][u][final_ranked_items[i]] += 1"
   ]
  },
  {
   "cell_type": "code",
   "execution_count": 22,
   "metadata": {
    "collapsed": false
   },
   "outputs": [
    {
     "name": "stdout",
     "output_type": "stream",
     "text": [
      "0\n",
      "[  785.  1934.   196.    65.  6618.   430.  4825.   548.  1042.   207.]\n",
      "[ 17025.    231.    690.   7775.   1097.    498.    289.   2666.    860.\n",
      "    404.]\n",
      "[ 17994.   3754.   2744.    679.    207.   4706.    953.     56.    757.\n",
      "    418.]\n",
      "[  6930.     17.   2192.    172.    154.   3198.    532.    317.  11863.\n",
      "  13904.]\n",
      "[  226.   329.  6065.  2244.   215.    89.  6452.   217.   714.   332.]\n",
      "[    81.    163.  14040.  10584.   5587.   1075.     67.  14219.   2906.\n",
      "  18720.]\n",
      "[  1035.   8089.     67.  16503.    532.    289.   1037.    533.  13417.\n",
      "   3398.]\n",
      "[ 13302.    276.   1376.  12573.   1801.  12176.    331.  13143.  14166.\n",
      "   5766.]\n",
      "[  302.   461.    93.  8188.  1406.  2398.   154.   712.   977.  1259.]\n",
      "[ 12194.    212.   5730.   1044.  13845.  14245.    190.   1338.   4820.\n",
      "   1705.]\n",
      "[  2855.  17095.     89.    292.   1358.   7464.    903.   1515.    701.\n",
      "    903.]\n"
     ]
    },
    {
     "ename": "ValueError",
     "evalue": "a must be non-empty",
     "output_type": "error",
     "traceback": [
      "\u001b[0;31m---------------------------------------------------------------------------\u001b[0m",
      "\u001b[0;31mValueError\u001b[0m                                Traceback (most recent call last)",
      "\u001b[0;32m<ipython-input-22-878d460774ad>\u001b[0m in \u001b[0;36m<module>\u001b[0;34m()\u001b[0m\n\u001b[1;32m      7\u001b[0m     \u001b[0mitems\u001b[0m \u001b[0;34m=\u001b[0m \u001b[0mreceive_items\u001b[0m\u001b[0;34m(\u001b[0m\u001b[0mt\u001b[0m\u001b[0;34m)\u001b[0m\u001b[0;34m\u001b[0m\u001b[0m\n\u001b[1;32m      8\u001b[0m     \u001b[0;32mprint\u001b[0m \u001b[0mitems\u001b[0m\u001b[0;34m\u001b[0m\u001b[0m\n\u001b[0;32m----> 9\u001b[0;31m     \u001b[0mfinal_ranked_items\u001b[0m\u001b[0;34m,\u001b[0m\u001b[0moriginal_ranked_items\u001b[0m \u001b[0;34m=\u001b[0m \u001b[0mrba\u001b[0m\u001b[0;34m(\u001b[0m\u001b[0mu\u001b[0m\u001b[0;34m,\u001b[0m\u001b[0mitems\u001b[0m\u001b[0;34m,\u001b[0m\u001b[0mt\u001b[0m\u001b[0;34m)\u001b[0m\u001b[0;34m\u001b[0m\u001b[0m\n\u001b[0m\u001b[1;32m     10\u001b[0m     \u001b[0mclicked\u001b[0m \u001b[0;34m=\u001b[0m \u001b[0msimulate_click\u001b[0m\u001b[0;34m(\u001b[0m\u001b[0mitems\u001b[0m\u001b[0;34m,\u001b[0m\u001b[0mfinal_ranked_items\u001b[0m\u001b[0;34m)\u001b[0m\u001b[0;34m\u001b[0m\u001b[0m\n\u001b[1;32m     11\u001b[0m     \u001b[0mscore\u001b[0m\u001b[0;34m(\u001b[0m\u001b[0mt\u001b[0m\u001b[0;34m,\u001b[0m\u001b[0mclicked\u001b[0m\u001b[0;34m)\u001b[0m\u001b[0;34m\u001b[0m\u001b[0m\n",
      "\u001b[0;32m<ipython-input-18-d2732e83068b>\u001b[0m in \u001b[0;36mrba\u001b[0;34m(u, items, t)\u001b[0m\n\u001b[1;32m      6\u001b[0m         \u001b[0moriginal_ranked\u001b[0m\u001b[0;34m[\u001b[0m\u001b[0mi\u001b[0m\u001b[0;34m]\u001b[0m \u001b[0;34m=\u001b[0m \u001b[0mmab\u001b[0m\u001b[0;34m(\u001b[0m\u001b[0mi\u001b[0m\u001b[0;34m,\u001b[0m\u001b[0mu\u001b[0m\u001b[0;34m,\u001b[0m\u001b[0mitems\u001b[0m\u001b[0;34m,\u001b[0m\u001b[0mt\u001b[0m\u001b[0;34m)\u001b[0m\u001b[0;34m\u001b[0m\u001b[0m\n\u001b[1;32m      7\u001b[0m         \u001b[0;32mif\u001b[0m \u001b[0mnp\u001b[0m\u001b[0;34m.\u001b[0m\u001b[0min1d\u001b[0m\u001b[0;34m(\u001b[0m\u001b[0moriginal_ranked\u001b[0m\u001b[0;34m[\u001b[0m\u001b[0mi\u001b[0m\u001b[0;34m]\u001b[0m\u001b[0;34m,\u001b[0m\u001b[0mfinal_ranked\u001b[0m\u001b[0;34m[\u001b[0m\u001b[0;36m0\u001b[0m\u001b[0;34m:\u001b[0m\u001b[0mi\u001b[0m\u001b[0;34m]\u001b[0m\u001b[0;34m,\u001b[0m\u001b[0massume_unique\u001b[0m\u001b[0;34m=\u001b[0m\u001b[0mTrue\u001b[0m\u001b[0;34m)\u001b[0m\u001b[0;34m[\u001b[0m\u001b[0;36m0\u001b[0m\u001b[0;34m]\u001b[0m \u001b[0;34m==\u001b[0m \u001b[0mTrue\u001b[0m\u001b[0;34m:\u001b[0m\u001b[0;34m\u001b[0m\u001b[0m\n\u001b[0;32m----> 8\u001b[0;31m             \u001b[0mfinal_ranked\u001b[0m\u001b[0;34m[\u001b[0m\u001b[0mi\u001b[0m\u001b[0;34m]\u001b[0m \u001b[0;34m=\u001b[0m \u001b[0mnp\u001b[0m\u001b[0;34m.\u001b[0m\u001b[0mrandom\u001b[0m\u001b[0;34m.\u001b[0m\u001b[0mchoice\u001b[0m\u001b[0;34m(\u001b[0m\u001b[0mnp\u001b[0m\u001b[0;34m.\u001b[0m\u001b[0msetdiff1d\u001b[0m\u001b[0;34m(\u001b[0m\u001b[0mitems\u001b[0m\u001b[0;34m,\u001b[0m\u001b[0mfinal_ranked\u001b[0m\u001b[0;34m[\u001b[0m\u001b[0;36m0\u001b[0m\u001b[0;34m:\u001b[0m\u001b[0mi\u001b[0m\u001b[0;34m]\u001b[0m\u001b[0;34m,\u001b[0m\u001b[0massume_unique\u001b[0m\u001b[0;34m=\u001b[0m\u001b[0mTrue\u001b[0m\u001b[0;34m)\u001b[0m\u001b[0;34m,\u001b[0m\u001b[0msize\u001b[0m\u001b[0;34m=\u001b[0m\u001b[0;36m1\u001b[0m\u001b[0;34m)\u001b[0m\u001b[0;34m\u001b[0m\u001b[0m\n\u001b[0m\u001b[1;32m      9\u001b[0m         \u001b[0;32melse\u001b[0m\u001b[0;34m:\u001b[0m\u001b[0;34m\u001b[0m\u001b[0m\n\u001b[1;32m     10\u001b[0m             \u001b[0mfinal_ranked\u001b[0m\u001b[0;34m[\u001b[0m\u001b[0mi\u001b[0m\u001b[0;34m]\u001b[0m \u001b[0;34m=\u001b[0m \u001b[0moriginal_ranked\u001b[0m\u001b[0;34m[\u001b[0m\u001b[0mi\u001b[0m\u001b[0;34m]\u001b[0m\u001b[0;34m\u001b[0m\u001b[0m\n",
      "\u001b[0;32mmtrand.pyx\u001b[0m in \u001b[0;36mmtrand.RandomState.choice (numpy/random/mtrand/mtrand.c:17158)\u001b[0;34m()\u001b[0m\n",
      "\u001b[0;31mValueError\u001b[0m: a must be non-empty"
     ]
    }
   ],
   "source": [
    "initialize()\n",
    "start_time = time.time()\n",
    "for t in range(0,timesteps):\n",
    "    if t%100 == 0:\n",
    "        print t\n",
    "    u = receive_user(t)\n",
    "    items = receive_items(t)\n",
    "    print items\n",
    "    final_ranked_items,original_ranked_items = rba(u,items,t)\n",
    "    clicked = simulate_click(items,final_ranked_items)\n",
    "    score(t,clicked)\n",
    "    #print clicked\n",
    "    #print final_ranked_items\n",
    "    update(u,original_ranked_items,final_ranked_items,clicked)\n",
    "end_time = time.time()"
   ]
  },
  {
   "cell_type": "code",
   "execution_count": null,
   "metadata": {
    "collapsed": true
   },
   "outputs": [],
   "source": [
    "for t in range(1,timesteps):\n",
    "    scores[t] += scores[t-1]"
   ]
  },
  {
   "cell_type": "code",
   "execution_count": null,
   "metadata": {
    "collapsed": true
   },
   "outputs": [],
   "source": [
    "avg = np.zeros(timesteps)\n",
    "for t in range(0,timesteps):\n",
    "    avg[t] = scores[t]/(t+1)\n",
    "plt.plot(avg)\n",
    "plt.show()"
   ]
  },
  {
   "cell_type": "code",
   "execution_count": null,
   "metadata": {
    "collapsed": true
   },
   "outputs": [],
   "source": [
    "print \"Time taken by the algorithm to run is %lf seconds\" %(end_time-start_time)\n",
    "np.savetxt(output_score_file,avg,fmt=\"%.3f\",delimiter=' ')"
   ]
  }
 ],
 "metadata": {
  "kernelspec": {
   "display_name": "Python [default]",
   "language": "python",
   "name": "python2"
  },
  "language_info": {
   "codemirror_mode": {
    "name": "ipython",
    "version": 2
   },
   "file_extension": ".py",
   "mimetype": "text/x-python",
   "name": "python",
   "nbconvert_exporter": "python",
   "pygments_lexer": "ipython2",
   "version": "2.7.12"
  }
 },
 "nbformat": 4,
 "nbformat_minor": 2
}
