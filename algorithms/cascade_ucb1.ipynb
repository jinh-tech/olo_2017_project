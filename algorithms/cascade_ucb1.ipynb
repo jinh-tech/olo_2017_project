{
 "cells": [
  {
   "cell_type": "code",
   "execution_count": 1,
   "metadata": {
    "collapsed": false
   },
   "outputs": [],
   "source": [
    "import numpy as np\n",
    "import matplotlib.pyplot as plt\n",
    "import time"
   ]
  },
  {
   "cell_type": "code",
   "execution_count": 2,
   "metadata": {
    "collapsed": false
   },
   "outputs": [],
   "source": [
    "users = np.loadtxt('../processed_data/last_fm/lfm_u_1.txt')\n",
    "data = np.loadtxt('../processed_data/last_fm/lfm_a_1.txt')\n",
    "output_score_file = \"../ndcg_scores/cascade_ucb1/score_lfm_1.txt\"\n",
    "#users = np.ones(users.size)\n",
    "ones = 1 # change for each file depending upon no. of ones.\n",
    "timesteps = users.size\n",
    "#timesteps = 5\n",
    "no_recommendation = data.shape[1]\n",
    "times_appeared = {}\n",
    "weight = {}\n",
    "scores = np.zeros(timesteps)\n",
    "best_dcg = 0\n",
    "for i in range(0,ones):\n",
    "    best_dcg += 1.0/np.log2(i+2)"
   ]
  },
  {
   "cell_type": "code",
   "execution_count": 3,
   "metadata": {
    "collapsed": true
   },
   "outputs": [],
   "source": [
    "def receive_user(t):\n",
    "    return users[t]\n",
    "\n",
    "def receive_items(t):\n",
    "    return data[t]\n"
   ]
  },
  {
   "cell_type": "code",
   "execution_count": 4,
   "metadata": {
    "collapsed": true
   },
   "outputs": [],
   "source": [
    "def cascade_ucb1(u,items,t):\n",
    "    if not u in times_appeared:\n",
    "        times_appeared[u] = {}\n",
    "        weight[u] = {}\n",
    "    for i in range(0,items.size):\n",
    "        if not items[i] in times_appeared[u]:\n",
    "            times_appeared[u][items[i]] = 1.0\n",
    "            weight[u][items[i]] = np.random.uniform(low=0.01,high=0.1,size=1)\n",
    "               \n",
    "    ucb = np.zeros(items.size)\n",
    "    for i in range(0,items.size):\n",
    "        ucb[i] = weight[u][items[i]] + 1.0*np.sqrt((1.5*np.log2(t+1))/times_appeared[u][items[i]])\n",
    "    \n",
    "    sorted_indices = np.argsort(ucb)\n",
    "    sorted_indices = sorted_indices[::-1]\n",
    "    sorted_items = np.zeros(items.size)\n",
    "    for i in range(0,items.size):\n",
    "            sorted_items[i] = items[sorted_indices[i]]\n",
    "    return sorted_items"
   ]
  },
  {
   "cell_type": "code",
   "execution_count": 5,
   "metadata": {
    "collapsed": true
   },
   "outputs": [],
   "source": [
    "def score(t,clicked):\n",
    "    for i in range(0,clicked.size):\n",
    "        scores[t] += clicked[i]/np.log2(i+2)\n",
    "    scores[t] /= best_dcg"
   ]
  },
  {
   "cell_type": "code",
   "execution_count": 6,
   "metadata": {
    "collapsed": true
   },
   "outputs": [],
   "source": [
    "def simulate_click(u,items,ranked_items):\n",
    "    \n",
    "    clicked = np.zeros(items.size)\n",
    "    feedback = 999999\n",
    "    for i in range(0,items.size):\n",
    "        for j in range(0,ones):\n",
    "            if items[j] == ranked_items[i]:\n",
    "                clicked[i] = 1\n",
    "                if i < feedback:\n",
    "                    feedback = i\n",
    "    \n",
    "    return feedback,clicked"
   ]
  },
  {
   "cell_type": "code",
   "execution_count": 7,
   "metadata": {
    "collapsed": true
   },
   "outputs": [],
   "source": [
    "def update(u,feedback,ranked_items,clicked):\n",
    "    for i in range(0,feedback+1):\n",
    "        weight[u][ranked_items[i]] = (times_appeared[u][ranked_items[i]]*weight[u][ranked_items[i]]+clicked[i])/(times_appeared[u][ranked_items[i]]+1.0)\n",
    "        times_appeared[u][ranked_items[i]] += 1.0"
   ]
  },
  {
   "cell_type": "code",
   "execution_count": 8,
   "metadata": {
    "collapsed": false
   },
   "outputs": [],
   "source": [
    "start_time = time.time()\n",
    "for t in range(0,timesteps):\n",
    "    \n",
    "    u = receive_user(t)\n",
    "    items = receive_items(t)\n",
    "    ranked_items = cascade_ucb1(u,items,t)\n",
    "    feedback,clicked = simulate_click(u,items,ranked_items)\n",
    "    score(t,clicked)\n",
    "    #print feedback\n",
    "    #print clicked\n",
    "    update(u,feedback,ranked_items,clicked)\n",
    "end_time = time.time()"
   ]
  },
  {
   "cell_type": "code",
   "execution_count": 9,
   "metadata": {
    "collapsed": false
   },
   "outputs": [],
   "source": [
    "for t in range(1,timesteps):\n",
    "    scores[t] += scores[t-1]"
   ]
  },
  {
   "cell_type": "code",
   "execution_count": 10,
   "metadata": {
    "collapsed": false,
    "scrolled": true
   },
   "outputs": [
    {
     "data": {
      "image/png": "[encoded data removed]",
      "text/plain": [
       "<matplotlib.figure.Figure at 0x7f80cfacae50>"
      ]
     },
     "metadata": {},
     "output_type": "display_data"
    }
   ],
   "source": [
    "avg = np.zeros(timesteps)\n",
    "for t in range(0,timesteps):\n",
    "    avg[t] = scores[t]/(t+1)\n",
    "plt.plot(avg)\n",
    "plt.show()"
   ]
  },
  {
   "cell_type": "code",
   "execution_count": 11,
   "metadata": {
    "collapsed": false
   },
   "outputs": [
    {
     "name": "stdout",
     "output_type": "stream",
     "text": [
      "Time taken by the algorithm to run is 23.308879 seconds\n"
     ]
    }
   ],
   "source": [
    "print \"Time taken by the algorithm to run is %lf seconds\" %(end_time-start_time)\n",
    "np.savetxt(output_score_file,avg,fmt=\"%.3f\",delimiter=' ')"
   ]
  }
 ],
 "metadata": {
  "anaconda-cloud": {},
  "kernelspec": {
   "display_name": "Python [default]",
   "language": "python",
   "name": "python2"
  },
  "language_info": {
   "codemirror_mode": {
    "name": "ipython",
    "version": 2
   },
   "file_extension": ".py",
   "mimetype": "text/x-python",
   "name": "python",
   "nbconvert_exporter": "python",
   "pygments_lexer": "ipython2",
   "version": "2.7.12"
  }
 },
 "nbformat": 4,
 "nbformat_minor": 1
}
